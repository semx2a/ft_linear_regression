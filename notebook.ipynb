{
 "cells": [
  {
   "cell_type": "markdown",
   "metadata": {},
   "source": [
    "# ft_linear_regression\n",
    "\n",
    "## The project\n",
    "\n",
    "This school project is an introduction to machine learning. The goal is to predict the price of a car based on its mileage. The project is divided into two parts: a training part and a prediction part."
   ]
  },
  {
   "cell_type": "code",
   "execution_count": 1,
   "metadata": {},
   "outputs": [],
   "source": [
    "import numpy as np\n",
    "from sklearn.datasets import make_regression\n",
    "import matplotlib.pyplot as plt"
   ]
  },
  {
   "cell_type": "markdown",
   "metadata": {},
   "source": [
    "## The algorithm\n",
    "\n",
    "1. Dataset: $(x, y)$ with $m$ examples, $n$ variables\n",
    "\n",
    "```math\n",
    "\\begin{equation*}\n",
    "\\begin{matrix}\n",
    "X = \n",
    "\\begin{bmatrix} \n",
    "x^{(1)}_1 & 1 \\\\ \n",
    "x^{(2)}_1 & 1 \\\\ \n",
    "\\vdots & \\vdots \\\\ \n",
    "x^{(m)}_1 & 1\n",
    "\\end{bmatrix} \\\\\n",
    "\n",
    "m \\times (n+1)\n",
    "\\end{matrix}\n",
    "\\end{equation*}\n",
    "\n",
    "\\qquad\n",
    "\n",
    "\\begin{equation*}\n",
    "\\begin{matrix}\n",
    "Y = \n",
    "\\begin{bmatrix} \n",
    "y^{(1)} \\\\\n",
    "y^{(2)} \\\\\n",
    "\\vdots \\\\\n",
    "y^{(m)} \n",
    "\\end{bmatrix} \\\\\n",
    "m \\times 1\n",
    "\\end{matrix}\n",
    "\\end{equation*}\n",
    "\n",
    "\\qquad\n",
    "\n",
    "\\begin{equation*}\n",
    "\\begin{matrix}\n",
    "\\theta = \n",
    "\\begin{bmatrix} \n",
    "a \\\\ \n",
    "b \n",
    "\\end{bmatrix} \\\\\n",
    "\n",
    "(n + 1) \\times 1 \n",
    "\\end{matrix}\n",
    "\\end{equation*}\n",
    "```"
   ]
  },
  {
   "cell_type": "code",
   "execution_count": 2,
   "metadata": {},
   "outputs": [
    {
     "data": {
      "text/plain": [
       "<matplotlib.collections.PathCollection at 0x7fb39079ca90>"
      ]
     },
     "execution_count": 2,
     "metadata": {},
     "output_type": "execute_result"
    },
    {
     "data": {
      "image/png": "[encoded data removed]",
      "text/plain": [
       "<Figure size 640x480 with 1 Axes>"
      ]
     },
     "metadata": {},
     "output_type": "display_data"
    }
   ],
   "source": [
    "x, y = make_regression(n_samples=100, n_features=1, noise=10)\n",
    "plt.scatter(x, y)"
   ]
  },
  {
   "cell_type": "code",
   "execution_count": 3,
   "metadata": {},
   "outputs": [
    {
     "name": "stdout",
     "output_type": "stream",
     "text": [
      "(100, 1)\n",
      "(100, 1)\n"
     ]
    }
   ],
   "source": [
    "print(x.shape)\n",
    "y = y.reshape(y.shape[0], 1)\n",
    "print(y.shape)"
   ]
  },
  {
   "cell_type": "code",
   "execution_count": 4,
   "metadata": {},
   "outputs": [
    {
     "data": {
      "text/plain": [
       "array([[-1.40541014,  1.        ],\n",
       "       [-0.13199221,  1.        ],\n",
       "       [ 0.39613077,  1.        ],\n",
       "       [ 0.93768478,  1.        ],\n",
       "       [-0.63589131,  1.        ],\n",
       "       [-0.33726651,  1.        ],\n",
       "       [-0.19236419,  1.        ],\n",
       "       [ 0.44339704,  1.        ],\n",
       "       [-0.94037321,  1.        ],\n",
       "       [ 0.04940336,  1.        ],\n",
       "       [-0.01767403,  1.        ],\n",
       "       [-0.2585727 ,  1.        ],\n",
       "       [ 0.13672058,  1.        ],\n",
       "       [ 0.38014371,  1.        ],\n",
       "       [-0.39624397,  1.        ],\n",
       "       [-0.67557217,  1.        ],\n",
       "       [-0.71404618,  1.        ],\n",
       "       [ 0.20991006,  1.        ],\n",
       "       [ 2.34336577,  1.        ],\n",
       "       [-1.771575  ,  1.        ],\n",
       "       [ 0.57021181,  1.        ],\n",
       "       [-0.01327261,  1.        ],\n",
       "       [ 0.67713384,  1.        ],\n",
       "       [-0.92055115,  1.        ],\n",
       "       [-0.15684307,  1.        ],\n",
       "       [ 0.6640328 ,  1.        ],\n",
       "       [-0.94626609,  1.        ],\n",
       "       [-0.65259743,  1.        ],\n",
       "       [ 0.2190374 ,  1.        ],\n",
       "       [-0.28124308,  1.        ],\n",
       "       [-0.81470006,  1.        ],\n",
       "       [ 0.23021073,  1.        ],\n",
       "       [ 0.85405594,  1.        ],\n",
       "       [ 0.81972535,  1.        ],\n",
       "       [-0.93727768,  1.        ],\n",
       "       [-0.37769357,  1.        ],\n",
       "       [-0.87995469,  1.        ],\n",
       "       [ 2.44324195,  1.        ],\n",
       "       [-0.42639139,  1.        ],\n",
       "       [-0.15419949,  1.        ],\n",
       "       [-0.10922337,  1.        ],\n",
       "       [-0.69653322,  1.        ],\n",
       "       [ 1.25431993,  1.        ],\n",
       "       [-0.83061595,  1.        ],\n",
       "       [ 0.01541152,  1.        ],\n",
       "       [-0.84707816,  1.        ],\n",
       "       [ 0.69586872,  1.        ],\n",
       "       [-0.17557138,  1.        ],\n",
       "       [ 1.49671985,  1.        ],\n",
       "       [ 0.95858468,  1.        ],\n",
       "       [-0.42514018,  1.        ],\n",
       "       [ 0.24345024,  1.        ],\n",
       "       [ 0.4932505 ,  1.        ],\n",
       "       [ 0.74446538,  1.        ],\n",
       "       [-0.63923445,  1.        ],\n",
       "       [ 0.78507458,  1.        ],\n",
       "       [ 1.84424635,  1.        ],\n",
       "       [-0.56184882,  1.        ],\n",
       "       [ 0.74887444,  1.        ],\n",
       "       [-0.98843537,  1.        ],\n",
       "       [ 0.9499489 ,  1.        ],\n",
       "       [ 0.36120086,  1.        ],\n",
       "       [ 0.22166801,  1.        ],\n",
       "       [-0.4489795 ,  1.        ],\n",
       "       [ 0.19112347,  1.        ],\n",
       "       [-0.31574737,  1.        ],\n",
       "       [-0.01056085,  1.        ],\n",
       "       [ 1.52375357,  1.        ],\n",
       "       [ 0.96578995,  1.        ],\n",
       "       [ 0.2780226 ,  1.        ],\n",
       "       [-1.01535556,  1.        ],\n",
       "       [-0.97801394,  1.        ],\n",
       "       [-0.6943103 ,  1.        ],\n",
       "       [ 0.39416221,  1.        ],\n",
       "       [-0.94304017,  1.        ],\n",
       "       [-0.58146069,  1.        ],\n",
       "       [ 1.26021334,  1.        ],\n",
       "       [ 1.65096763,  1.        ],\n",
       "       [-1.11736857,  1.        ],\n",
       "       [ 1.62338186,  1.        ],\n",
       "       [-1.26927916,  1.        ],\n",
       "       [-1.3174241 ,  1.        ],\n",
       "       [-0.72507304,  1.        ],\n",
       "       [-0.37135457,  1.        ],\n",
       "       [ 0.54589133,  1.        ],\n",
       "       [-0.95676345,  1.        ],\n",
       "       [-0.50750992,  1.        ],\n",
       "       [-0.28252426,  1.        ],\n",
       "       [ 0.44175513,  1.        ],\n",
       "       [-0.93917141,  1.        ],\n",
       "       [ 0.07498957,  1.        ],\n",
       "       [-0.18231604,  1.        ],\n",
       "       [ 0.6917792 ,  1.        ],\n",
       "       [-0.02441094,  1.        ],\n",
       "       [-0.453449  ,  1.        ],\n",
       "       [-0.44352945,  1.        ],\n",
       "       [-0.29843608,  1.        ],\n",
       "       [-0.19494952,  1.        ],\n",
       "       [-0.44690378,  1.        ],\n",
       "       [-2.5136344 ,  1.        ]])"
      ]
     },
     "execution_count": 4,
     "metadata": {},
     "output_type": "execute_result"
    }
   ],
   "source": [
    "# x matrix\n",
    "X = np.hstack((x, np.ones(x.shape)))\n",
    "X"
   ]
  },
  {
   "cell_type": "code",
   "execution_count": null,
   "metadata": {},
   "outputs": [
    {
     "data": {
      "text/plain": [
       "array([[-0.83473548],\n",
       "       [ 0.81973921]])"
      ]
     },
     "execution_count": 5,
     "metadata": {},
     "output_type": "execute_result"
    }
   ],
   "source": [
    "# create theta vector\n",
    "theta = np.random.randn(2, 1)\n",
    "theta"
   ]
  },
  {
   "cell_type": "markdown",
   "metadata": {},
   "source": [
    "2. Model:\n",
    "\n",
    "```math\n",
    "\\begin{equation*}\n",
    "F = X.\\theta\n",
    "\\end{equation*}\n",
    "\\qquad\n",
    "m \\times 1\n",
    "```"
   ]
  },
  {
   "cell_type": "code",
   "execution_count": 6,
   "metadata": {},
   "outputs": [],
   "source": [
    "def model(X, theta):\n",
    "\treturn X.dot(theta)"
   ]
  },
  {
   "cell_type": "code",
   "execution_count": 7,
   "metadata": {},
   "outputs": [
    {
     "data": {
      "text/plain": [
       "[<matplotlib.lines.Line2D at 0x7fb38e5275e0>]"
      ]
     },
     "execution_count": 7,
     "metadata": {},
     "output_type": "execute_result"
    },
    {
     "data": {
      "image/png": "[encoded data removed]",
      "text/plain": [
       "<Figure size 640x480 with 1 Axes>"
      ]
     },
     "metadata": {},
     "output_type": "display_data"
    }
   ],
   "source": [
    "plt.scatter(x, y)\n",
    "plt.plot(x, model(X, theta), c='r')"
   ]
  },
  {
   "cell_type": "markdown",
   "metadata": {},
   "source": [
    "3. Cost function:\n",
    "\n",
    "```math\n",
    "\\begin{equation*}\n",
    "J(\\theta) = \\frac{1}{2m}\\sum(X.\\theta+Y)^2\n",
    "\\end{equation*}\n",
    "\\qquad\n",
    "1 \\times 1\n",
    "```"
   ]
  },
  {
   "cell_type": "code",
   "execution_count": 8,
   "metadata": {},
   "outputs": [],
   "source": [
    "def cost_function(X, y, theta):\n",
    "\tm = len(y)\n",
    "\treturn 1/(2*m) * np.sum((model(X, theta) - y)**2)"
   ]
  },
  {
   "cell_type": "code",
   "execution_count": 9,
   "metadata": {},
   "outputs": [
    {
     "data": {
      "text/plain": [
       "np.float64(1161.2609647083748)"
      ]
     },
     "execution_count": 9,
     "metadata": {},
     "output_type": "execute_result"
    }
   ],
   "source": [
    "cost_function(X, y, theta)"
   ]
  },
  {
   "cell_type": "markdown",
   "metadata": {},
   "source": [
    "4. Gradients:\n",
    "\n",
    "```math\n",
    "\\begin{equation*}\n",
    "\\frac{\\partial J(\\theta)}{\\partial \\theta} = \\frac{1}{m} X^T.(X.\\theta-Y)\n",
    "\\end{equation*}\n",
    "\\qquad\n",
    "(n+1) \\times 1\n",
    "```"
   ]
  },
  {
   "cell_type": "code",
   "execution_count": 10,
   "metadata": {},
   "outputs": [],
   "source": [
    "def grad(X, y, theta):\n",
    "\tm = len(y)\n",
    "\treturn 1/m * X.T.dot(model(X, theta) - y) "
   ]
  },
  {
   "cell_type": "markdown",
   "metadata": {},
   "source": [
    "5. Gradient Descent Algorithm:\n",
    "\n",
    "```math\n",
    "\\begin{equation*}\n",
    "\\theta := \\theta - \\alpha\\frac{\\partial J(\\theta)}{\\partial \\theta}\n",
    "\\end{equation*}\n",
    "\\qquad\n",
    "(n+1) \\times 1\n",
    "```\n",
    "\n"
   ]
  },
  {
   "cell_type": "code",
   "execution_count": 11,
   "metadata": {},
   "outputs": [],
   "source": [
    "def gradient_descent(X, y, theta, learning_rate, n_iterations):\n",
    "\n",
    "\tcost_history = np.zeros(n_iterations)\n",
    "\tfor i in range(0, n_iterations):\n",
    "\t\ttheta = theta - learning_rate * grad(X, y, theta)\n",
    "\t\tcost_history[i] = cost_function(X, y, theta)\n",
    "\treturn theta, cost_history"
   ]
  },
  {
   "cell_type": "markdown",
   "metadata": {},
   "source": [
    "## Machine Learning\n"
   ]
  },
  {
   "cell_type": "code",
   "execution_count": 34,
   "metadata": {},
   "outputs": [],
   "source": [
    "theta_final, cost_history = gradient_descent(X, y, theta, learning_rate=0.01, n_iterations=1000)"
   ]
  },
  {
   "cell_type": "code",
   "execution_count": 35,
   "metadata": {},
   "outputs": [
    {
     "data": {
      "text/plain": [
       "array([[53.99612663],\n",
       "       [-0.57348008]])"
      ]
     },
     "execution_count": 35,
     "metadata": {},
     "output_type": "execute_result"
    }
   ],
   "source": [
    "theta_final"
   ]
  },
  {
   "cell_type": "code",
   "execution_count": 36,
   "metadata": {},
   "outputs": [
    {
     "data": {
      "text/plain": [
       "[<matplotlib.lines.Line2D at 0x7fb38cafc430>]"
      ]
     },
     "execution_count": 36,
     "metadata": {},
     "output_type": "execute_result"
    },
    {
     "data": {
      "image/png": "[encoded data removed]",
      "text/plain": [
       "<Figure size 640x480 with 1 Axes>"
      ]
     },
     "metadata": {},
     "output_type": "display_data"
    }
   ],
   "source": [
    "predictions = model(X, theta_final)\n",
    "plt.scatter(x, y)\n",
    "plt.plot(x, predictions, c='r')"
   ]
  },
  {
   "cell_type": "markdown",
   "metadata": {},
   "source": [
    "### Learning curve"
   ]
  },
  {
   "cell_type": "code",
   "execution_count": 38,
   "metadata": {},
   "outputs": [
    {
     "data": {
      "text/plain": [
       "[<matplotlib.lines.Line2D at 0x7fb38c898760>]"
      ]
     },
     "execution_count": 38,
     "metadata": {},
     "output_type": "execute_result"
    },
    {
     "data": {
      "image/png": "[encoded data removed]",
      "text/plain": [
       "<Figure size 640x480 with 1 Axes>"
      ]
     },
     "metadata": {},
     "output_type": "display_data"
    }
   ],
   "source": [
    "plt.plot(range(1000), cost_history)"
   ]
  },
  {
   "cell_type": "markdown",
   "metadata": {},
   "source": [
    "### Coefficient of determination\n",
    "\n",
    "```math\n",
    "\\begin{equation*}\n",
    "R^2 = 1 - \\frac{\\sum(Y - f(X))^2}{\\sum(Y - \\bar{Y})^2}\n",
    "\\end{equation*}"
   ]
  },
  {
   "cell_type": "code",
   "execution_count": null,
   "metadata": {},
   "outputs": [],
   "source": [
    "def coef_determination(y, pred):\n",
    "\tu = ((y - pred)**2).sum() # residu de la sommme des carrés\n",
    "\tv = ((y - y.mean())**2).sum() #somme totale des carrés\n",
    "\treturn 1 - u/v"
   ]
  },
  {
   "cell_type": "code",
   "execution_count": null,
   "metadata": {},
   "outputs": [
    {
     "data": {
      "text/plain": [
       "np.float64(0.9589173347471306)"
      ]
     },
     "execution_count": 17,
     "metadata": {},
     "output_type": "execute_result"
    }
   ],
   "source": [
    "coef_determination(y, predictions)"
   ]
  },
  {
   "cell_type": "markdown",
   "metadata": {},
   "source": [
    "## References\n",
    "\n",
    "- [La régression linéaire 🇫🇷](https://www.youtube.com/watch?v=wg7-roETbbM&t=27s&ab_channel=MachineLearnia)\n",
    "- [Regression linéraire Numpy](https://youtu.be/vG6tDQc86Rs?list=PLO_fdPEVlfKqUF5BPKjGSh7aV9aBshrpY)"
   ]
  }
 ],
 "metadata": {
  "kernelspec": {
   "display_name": ".venv",
   "language": "python",
   "name": "python3"
  },
  "language_info": {
   "codemirror_mode": {
    "name": "ipython",
    "version": 3
   },
   "file_extension": ".py",
   "mimetype": "text/x-python",
   "name": "python",
   "nbconvert_exporter": "python",
   "pygments_lexer": "ipython3",
   "version": "3.10.15"
  }
 },
 "nbformat": 4,
 "nbformat_minor": 2
}
