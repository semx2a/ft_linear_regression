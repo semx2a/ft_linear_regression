{
 "cells": [
  {
   "cell_type": "markdown",
   "metadata": {},
   "source": [
    "# ft_linear_regression\n",
    "\n",
    "## The project\n",
    "\n",
    "This school project is an introduction to machine learning. The goal is to predict the price of a car based on its mileage. The project is divided into two parts: a training part and a prediction part."
   ]
  },
  {
   "cell_type": "code",
   "execution_count": 1,
   "metadata": {},
   "outputs": [],
   "source": [
    "import numpy as np\n",
    "from sklearn.datasets import make_regression\n",
    "import matplotlib.pyplot as plt"
   ]
  },
  {
   "cell_type": "markdown",
   "metadata": {},
   "source": [
    "## The algorithm\n",
    "\n",
    "1. Dataset: $(x, y)$ with $m$ examples, $n$ variables\n",
    "\n",
    "```math\n",
    "\\begin{equation*}\n",
    "\\begin{matrix}\n",
    "X = \n",
    "\\begin{bmatrix} \n",
    "x^{(1)}_1 & 1 \\\\ \n",
    "x^{(2)}_1 & 1 \\\\ \n",
    "\\vdots & \\vdots \\\\ \n",
    "x^{(m)}_1 & 1\n",
    "\\end{bmatrix} \\\\\n",
    "\n",
    "m \\times (n+1)\n",
    "\\end{matrix}\n",
    "\\end{equation*}\n",
    "\n",
    "\\qquad\n",
    "\n",
    "\\begin{equation*}\n",
    "\\begin{matrix}\n",
    "Y = \n",
    "\\begin{bmatrix} \n",
    "y^{(1)} \\\\\n",
    "y^{(2)} \\\\\n",
    "\\vdots \\\\\n",
    "y^{(m)} \n",
    "\\end{bmatrix} \\\\\n",
    "m \\times 1\n",
    "\\end{matrix}\n",
    "\\end{equation*}\n",
    "\n",
    "\\qquad\n",
    "\n",
    "\\begin{equation*}\n",
    "\\begin{matrix}\n",
    "\\theta = \n",
    "\\begin{bmatrix} \n",
    "a \\\\ \n",
    "b \n",
    "\\end{bmatrix} \\\\\n",
    "\n",
    "(n + 1) \\times 1 \n",
    "\\end{matrix}\n",
    "\\end{equation*}\n",
    "```"
   ]
  },
  {
   "cell_type": "code",
   "execution_count": 2,
   "metadata": {},
   "outputs": [
    {
     "data": {
      "text/plain": [
       "<matplotlib.collections.PathCollection at 0x7ffae8ed4ac0>"
      ]
     },
     "execution_count": 2,
     "metadata": {},
     "output_type": "execute_result"
    },
    {
     "data": {
      "image/png": "[encoded data removed]",
      "text/plain": [
       "<Figure size 640x480 with 1 Axes>"
      ]
     },
     "metadata": {},
     "output_type": "display_data"
    }
   ],
   "source": [
    "x, y = make_regression(n_samples=100, n_features=1, noise=10)\n",
    "plt.scatter(x, y)"
   ]
  },
  {
   "cell_type": "code",
   "execution_count": 3,
   "metadata": {},
   "outputs": [
    {
     "name": "stdout",
     "output_type": "stream",
     "text": [
      "(100, 1)\n",
      "(100, 1)\n"
     ]
    }
   ],
   "source": [
    "print(x.shape)\n",
    "y = y.reshape(y.shape[0], 1)\n",
    "print(y.shape)"
   ]
  },
  {
   "cell_type": "code",
   "execution_count": 4,
   "metadata": {},
   "outputs": [
    {
     "data": {
      "text/plain": [
       "array([[-0.15938483,  1.        ],\n",
       "       [ 0.01557968,  1.        ],\n",
       "       [-1.28839189,  1.        ],\n",
       "       [-0.10037129,  1.        ],\n",
       "       [-0.51083727,  1.        ],\n",
       "       [-0.85127494,  1.        ],\n",
       "       [ 0.83677455,  1.        ],\n",
       "       [ 1.24103037,  1.        ],\n",
       "       [-1.06006616,  1.        ],\n",
       "       [ 1.46834795,  1.        ],\n",
       "       [ 0.89279902,  1.        ],\n",
       "       [ 1.66615712,  1.        ],\n",
       "       [ 0.09632239,  1.        ],\n",
       "       [-0.45016264,  1.        ],\n",
       "       [ 0.77207272,  1.        ],\n",
       "       [-2.36873774,  1.        ],\n",
       "       [ 2.06242343,  1.        ],\n",
       "       [ 0.60444189,  1.        ],\n",
       "       [ 0.34070737,  1.        ],\n",
       "       [-0.14606851,  1.        ],\n",
       "       [ 0.36896709,  1.        ],\n",
       "       [ 0.37489558,  1.        ],\n",
       "       [ 2.09042627,  1.        ],\n",
       "       [ 0.3935589 ,  1.        ],\n",
       "       [ 1.28102736,  1.        ],\n",
       "       [-0.4759196 ,  1.        ],\n",
       "       [ 0.44837311,  1.        ],\n",
       "       [-0.26464631,  1.        ],\n",
       "       [ 1.64591082,  1.        ],\n",
       "       [ 1.58392868,  1.        ],\n",
       "       [ 1.21856707,  1.        ],\n",
       "       [ 0.46441124,  1.        ],\n",
       "       [-0.80236921,  1.        ],\n",
       "       [-1.27937683,  1.        ],\n",
       "       [ 0.54382197,  1.        ],\n",
       "       [-0.68205932,  1.        ],\n",
       "       [ 1.00279537,  1.        ],\n",
       "       [ 0.86118165,  1.        ],\n",
       "       [-1.52946011,  1.        ],\n",
       "       [ 0.16306831,  1.        ],\n",
       "       [ 0.32395249,  1.        ],\n",
       "       [ 1.03496818,  1.        ],\n",
       "       [ 1.82899958,  1.        ],\n",
       "       [-0.02408569,  1.        ],\n",
       "       [-0.67218886,  1.        ],\n",
       "       [ 0.66060748,  1.        ],\n",
       "       [-1.78670851,  1.        ],\n",
       "       [-0.59528226,  1.        ],\n",
       "       [ 1.11346307,  1.        ],\n",
       "       [ 0.53965886,  1.        ],\n",
       "       [-1.03156846,  1.        ],\n",
       "       [-0.43075861,  1.        ],\n",
       "       [-0.95797357,  1.        ],\n",
       "       [-0.50603886,  1.        ],\n",
       "       [ 1.54813012,  1.        ],\n",
       "       [ 0.94069557,  1.        ],\n",
       "       [-1.43902843,  1.        ],\n",
       "       [-1.6157857 ,  1.        ],\n",
       "       [-0.20737393,  1.        ],\n",
       "       [-1.01608365,  1.        ],\n",
       "       [ 0.26508866,  1.        ],\n",
       "       [-0.52332449,  1.        ],\n",
       "       [-0.3110347 ,  1.        ],\n",
       "       [ 0.48430659,  1.        ],\n",
       "       [-2.33628799,  1.        ],\n",
       "       [-0.85343579,  1.        ],\n",
       "       [-0.07226614,  1.        ],\n",
       "       [ 0.66937861,  1.        ],\n",
       "       [ 0.26280592,  1.        ],\n",
       "       [-0.14863257,  1.        ],\n",
       "       [-0.5680784 ,  1.        ],\n",
       "       [-0.46048345,  1.        ],\n",
       "       [ 0.2208587 ,  1.        ],\n",
       "       [ 1.05337815,  1.        ],\n",
       "       [-0.72909921,  1.        ],\n",
       "       [-2.46985384,  1.        ],\n",
       "       [ 0.2025002 ,  1.        ],\n",
       "       [-1.27839774,  1.        ],\n",
       "       [ 0.04462233,  1.        ],\n",
       "       [ 0.77937786,  1.        ],\n",
       "       [ 0.31145455,  1.        ],\n",
       "       [-1.1576012 ,  1.        ],\n",
       "       [-0.20407401,  1.        ],\n",
       "       [-0.70400838,  1.        ],\n",
       "       [ 1.17133675,  1.        ],\n",
       "       [ 0.64817808,  1.        ],\n",
       "       [ 0.19935872,  1.        ],\n",
       "       [ 1.66771588,  1.        ],\n",
       "       [ 2.01488918,  1.        ],\n",
       "       [ 0.72147554,  1.        ],\n",
       "       [-0.27255871,  1.        ],\n",
       "       [-1.07689208,  1.        ],\n",
       "       [ 0.17059018,  1.        ],\n",
       "       [ 0.93029952,  1.        ],\n",
       "       [-1.35868767,  1.        ],\n",
       "       [ 1.68172787,  1.        ],\n",
       "       [-0.88609687,  1.        ],\n",
       "       [-0.40153   ,  1.        ],\n",
       "       [ 0.03715192,  1.        ],\n",
       "       [-0.01194256,  1.        ]])"
      ]
     },
     "execution_count": 4,
     "metadata": {},
     "output_type": "execute_result"
    }
   ],
   "source": [
    "# x matrix\n",
    "X = np.hstack((x, np.ones(x.shape)))\n",
    "X"
   ]
  },
  {
   "cell_type": "code",
   "execution_count": 5,
   "metadata": {},
   "outputs": [
    {
     "data": {
      "text/plain": [
       "array([[ 0.46592451],\n",
       "       [-1.50612158]])"
      ]
     },
     "execution_count": 5,
     "metadata": {},
     "output_type": "execute_result"
    }
   ],
   "source": [
    "# create theta vector\n",
    "theta = np.random.randn(2, 1)\n",
    "theta"
   ]
  },
  {
   "cell_type": "markdown",
   "metadata": {},
   "source": [
    "2. Model:\n",
    "\n",
    "```math\n",
    "\\begin{equation*}\n",
    "F = X.\\theta\n",
    "\\end{equation*}\n",
    "\\qquad\n",
    "m \\times 1\n",
    "```"
   ]
  },
  {
   "cell_type": "code",
   "execution_count": 6,
   "metadata": {},
   "outputs": [],
   "source": [
    "def model(X, theta):\n",
    "\treturn X.dot(theta)"
   ]
  },
  {
   "cell_type": "code",
   "execution_count": 7,
   "metadata": {},
   "outputs": [
    {
     "data": {
      "text/plain": [
       "[<matplotlib.lines.Line2D at 0x7ffae8db3460>]"
      ]
     },
     "execution_count": 7,
     "metadata": {},
     "output_type": "execute_result"
    },
    {
     "data": {
      "image/png": "[encoded data removed]",
      "text/plain": [
       "<Figure size 640x480 with 1 Axes>"
      ]
     },
     "metadata": {},
     "output_type": "display_data"
    }
   ],
   "source": [
    "plt.scatter(x, y)\n",
    "plt.plot(x, model(X, theta), c='r')"
   ]
  },
  {
   "cell_type": "markdown",
   "metadata": {},
   "source": [
    "3. Cost function:\n",
    "\n",
    "```math\n",
    "\\begin{equation*}\n",
    "J(\\theta) = \\frac{1}{2m}\\sum(X.\\theta+Y)^2\n",
    "\\end{equation*}\n",
    "\\qquad\n",
    "1 \\times 1\n",
    "```"
   ]
  },
  {
   "cell_type": "code",
   "execution_count": 8,
   "metadata": {},
   "outputs": [],
   "source": [
    "def cost_function(X, y, theta):\n",
    "\tm = len(y)\n",
    "\treturn 1/(2*m) * np.sum((model(X, theta) - y)**2)"
   ]
  },
  {
   "cell_type": "code",
   "execution_count": 9,
   "metadata": {},
   "outputs": [
    {
     "data": {
      "text/plain": [
       "np.float64(4820.571557896187)"
      ]
     },
     "execution_count": 9,
     "metadata": {},
     "output_type": "execute_result"
    }
   ],
   "source": [
    "cost_function(X, y, theta)"
   ]
  },
  {
   "cell_type": "markdown",
   "metadata": {},
   "source": [
    "4. Gradients:\n",
    "\n",
    "```math\n",
    "\\begin{equation*}\n",
    "\\frac{\\partial J(\\theta)}{\\partial \\theta} = \\frac{1}{m} X^T.(X.\\theta-Y)\n",
    "\\end{equation*}\n",
    "\\qquad\n",
    "(n+1) \\times 1\n",
    "```"
   ]
  },
  {
   "cell_type": "code",
   "execution_count": 10,
   "metadata": {},
   "outputs": [],
   "source": [
    "def grad(X, y, theta):\n",
    "\tm = len(y)\n",
    "\treturn 1/m * X.T.dot(model(X, theta) - y) "
   ]
  },
  {
   "cell_type": "markdown",
   "metadata": {},
   "source": [
    "5. Gradient Descent Algorithm:\n",
    "\n",
    "```math\n",
    "\\begin{equation*}\n",
    "\\theta := \\theta - \\alpha\\frac{\\partial J(\\theta)}{\\partial \\theta}\n",
    "\\end{equation*}\n",
    "\\qquad\n",
    "(n+1) \\times 1\n",
    "```\n",
    "\n"
   ]
  },
  {
   "cell_type": "code",
   "execution_count": 11,
   "metadata": {},
   "outputs": [],
   "source": [
    "def gradient_descent(X, y, theta, learning_rate, n_iterations):\n",
    "\n",
    "\tcost_history = np.zeros(n_iterations)\n",
    "\tfor i in range(0, n_iterations):\n",
    "\t\ttheta = theta - learning_rate * grad(X, y, theta)\n",
    "\t\tcost_history[i] = cost_function(X, y, theta)\n",
    "\treturn theta, cost_history"
   ]
  },
  {
   "cell_type": "markdown",
   "metadata": {},
   "source": [
    "## Machine Learning\n"
   ]
  },
  {
   "cell_type": "code",
   "execution_count": 12,
   "metadata": {},
   "outputs": [],
   "source": [
    "theta_final, cost_history = gradient_descent(X, y, theta, learning_rate=0.01, n_iterations=1000)"
   ]
  },
  {
   "cell_type": "code",
   "execution_count": 13,
   "metadata": {},
   "outputs": [
    {
     "data": {
      "text/plain": [
       "array([[9.67006238e+01],\n",
       "       [1.15307161e-02]])"
      ]
     },
     "execution_count": 13,
     "metadata": {},
     "output_type": "execute_result"
    }
   ],
   "source": [
    "theta_final"
   ]
  },
  {
   "cell_type": "code",
   "execution_count": 14,
   "metadata": {},
   "outputs": [
    {
     "data": {
      "text/plain": [
       "[<matplotlib.lines.Line2D at 0x7ffae6c2a6b0>]"
      ]
     },
     "execution_count": 14,
     "metadata": {},
     "output_type": "execute_result"
    },
    {
     "data": {
      "image/png": "[encoded data removed]",
      "text/plain": [
       "<Figure size 640x480 with 1 Axes>"
      ]
     },
     "metadata": {},
     "output_type": "display_data"
    }
   ],
   "source": [
    "predictions = model(X, theta_final)\n",
    "plt.scatter(x, y)\n",
    "plt.plot(x, predictions, c='r')"
   ]
  },
  {
   "cell_type": "markdown",
   "metadata": {},
   "source": [
    "### Learning curve"
   ]
  },
  {
   "cell_type": "code",
   "execution_count": 15,
   "metadata": {},
   "outputs": [
    {
     "data": {
      "text/plain": [
       "[<matplotlib.lines.Line2D at 0x7ffae6c9b640>]"
      ]
     },
     "execution_count": 15,
     "metadata": {},
     "output_type": "execute_result"
    },
    {
     "data": {
      "image/png": "[encoded data removed]",
      "text/plain": [
       "<Figure size 640x480 with 1 Axes>"
      ]
     },
     "metadata": {},
     "output_type": "display_data"
    }
   ],
   "source": [
    "plt.plot(range(1000), cost_history)"
   ]
  },
  {
   "cell_type": "markdown",
   "metadata": {},
   "source": [
    "### Coefficient of determination\n",
    "\n",
    "```math\n",
    "\\begin{equation*}\n",
    "R^2 = 1 - \\frac{\\sum(Y - f(X))^2}{\\sum(Y - \\bar{Y})^2}\n",
    "\\end{equation*}"
   ]
  },
  {
   "cell_type": "code",
   "execution_count": 16,
   "metadata": {},
   "outputs": [],
   "source": [
    "def coef_determination(y, pred):\n",
    "\tu = ((y - pred)**2).sum() # residu de la sommme des carrés\n",
    "\tv = ((y - y.mean())**2).sum() #somme totale des carrés\n",
    "\treturn 1 - u/v"
   ]
  },
  {
   "cell_type": "code",
   "execution_count": 17,
   "metadata": {},
   "outputs": [
    {
     "data": {
      "text/plain": [
       "np.float64(0.9900740938753209)"
      ]
     },
     "execution_count": 17,
     "metadata": {},
     "output_type": "execute_result"
    }
   ],
   "source": [
    "coef_determination(y, predictions)"
   ]
  },
  {
   "cell_type": "markdown",
   "metadata": {},
   "source": [
    "## References\n",
    "\n",
    "- [La régression linéaire 🇫🇷](https://www.youtube.com/watch?v=wg7-roETbbM&t=27s&ab_channel=MachineLearnia)\n",
    "- [Regression linéraire Numpy](https://youtu.be/vG6tDQc86Rs?list=PLO_fdPEVlfKqUF5BPKjGSh7aV9aBshrpY)"
   ]
  }
 ],
 "metadata": {
  "kernelspec": {
   "display_name": "my_env",
   "language": "python",
   "name": "python3"
  },
  "language_info": {
   "codemirror_mode": {
    "name": "ipython",
    "version": 3
   },
   "file_extension": ".py",
   "mimetype": "text/x-python",
   "name": "python",
   "nbconvert_exporter": "python",
   "pygments_lexer": "ipython3",
   "version": "3.10.15"
  }
 },
 "nbformat": 4,
 "nbformat_minor": 2
}
