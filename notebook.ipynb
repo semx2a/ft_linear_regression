{
 "cells": [
  {
   "cell_type": "markdown",
   "metadata": {},
   "source": [
    "# ft_linear_regression\n",
    "\n",
    "## The project\n",
    "\n",
    "This school project is an introduction to machine learning. The goal is to predict the price of a car based on its mileage. The project is divided into two parts: a training part and a prediction part."
   ]
  },
  {
   "cell_type": "code",
   "execution_count": null,
   "metadata": {},
   "outputs": [],
   "source": [
    "import numpy as np\n",
    "from sklearn.datasets import make_regression\n",
    "import matplotlib.pyplot as plt"
   ]
  },
  {
   "cell_type": "markdown",
   "metadata": {},
   "source": [
    "## The algorithm\n",
    "\n",
    "1. Dataset: $(x, y)$ with $m$ examples, $n$ variables\n",
    "\n",
    "```math\n",
    "\\begin{equation*}\n",
    "\\begin{matrix}\n",
    "X = \n",
    "\\begin{bmatrix} \n",
    "x^{(1)}_1 & 1 \\\\ \n",
    "x^{(2)}_1 & 1 \\\\ \n",
    "\\vdots & \\vdots \\\\ \n",
    "x^{(m)}_1 & 1\n",
    "\\end{bmatrix} \\\\\n",
    "\n",
    "m \\times (n+1)\n",
    "\\end{matrix}\n",
    "\\end{equation*}\n",
    "\n",
    "\\qquad\n",
    "\n",
    "\\begin{equation*}\n",
    "\\begin{matrix}\n",
    "Y = \n",
    "\\begin{bmatrix} \n",
    "y^{(1)} \\\\\n",
    "y^{(2)} \\\\\n",
    "\\vdots \\\\\n",
    "y^{(m)} \n",
    "\\end{bmatrix} \\\\\n",
    "m \\times 1\n",
    "\\end{matrix}\n",
    "\\end{equation*}\n",
    "\n",
    "\\qquad\n",
    "\n",
    "\\begin{equation*}\n",
    "\\begin{matrix}\n",
    "\\theta = \n",
    "\\begin{bmatrix} \n",
    "a \\\\ \n",
    "b \n",
    "\\end{bmatrix} \\\\\n",
    "\n",
    "(n + 1) \\times 1 \n",
    "\\end{matrix}\n",
    "\\end{equation*}\n",
    "```"
   ]
  },
  {
   "cell_type": "code",
   "execution_count": null,
   "metadata": {},
   "outputs": [],
   "source": [
    "x, y = make_regression(n_samples=100, n_features=1, noise=10)\n",
    "plt.scatter(x, y)"
   ]
  },
  {
   "cell_type": "code",
   "execution_count": null,
   "metadata": {},
   "outputs": [],
   "source": [
    "print(x.shape)\n",
    "y = y.reshape(y.shape[0], 1)\n",
    "print(y.shape)"
   ]
  },
  {
   "cell_type": "code",
   "execution_count": null,
   "metadata": {},
   "outputs": [],
   "source": [
    "# x matrix\n",
    "X = np.hstack((x, np.ones(x.shape)))\n",
    "X"
   ]
  },
  {
   "cell_type": "code",
   "execution_count": null,
   "metadata": {},
   "outputs": [],
   "source": [
    "# create theta vector\n",
    "theta = np.random.randn(2, 1)\n",
    "theta"
   ]
  },
  {
   "cell_type": "markdown",
   "metadata": {},
   "source": [
    "2. Model:\n",
    "\n",
    "```math\n",
    "\\begin{equation*}\n",
    "F = X.\\theta\n",
    "\\end{equation*}\n",
    "\\qquad\n",
    "m \\times 1\n",
    "```"
   ]
  },
  {
   "cell_type": "code",
   "execution_count": null,
   "metadata": {},
   "outputs": [],
   "source": [
    "def model(X, theta):\n",
    "\treturn X.dot(theta)"
   ]
  },
  {
   "cell_type": "code",
   "execution_count": null,
   "metadata": {},
   "outputs": [],
   "source": [
    "plt.scatter(x, y)\n",
    "plt.plot(x, model(X, theta), c='r')"
   ]
  },
  {
   "cell_type": "markdown",
   "metadata": {},
   "source": [
    "3. Cost function:\n",
    "\n",
    "```math\n",
    "\\begin{equation*}\n",
    "J(\\theta) = \\frac{1}{2m}\\sum(X.\\theta+Y)^2\n",
    "\\end{equation*}\n",
    "\\qquad\n",
    "1 \\times 1\n",
    "```"
   ]
  },
  {
   "cell_type": "code",
   "execution_count": null,
   "metadata": {},
   "outputs": [],
   "source": [
    "def cost_function(X, y, theta):\n",
    "\tm = len(y)\n",
    "\treturn 1/(2*m) * np.sum((model(X, theta) - y)**2)"
   ]
  },
  {
   "cell_type": "code",
   "execution_count": null,
   "metadata": {},
   "outputs": [],
   "source": [
    "cost_function(X, y, theta)"
   ]
  },
  {
   "cell_type": "markdown",
   "metadata": {},
   "source": [
    "4. Gradients:\n",
    "\n",
    "```math\n",
    "\\begin{equation*}\n",
    "\\frac{\\partial J(\\theta)}{\\partial \\theta} = \\frac{1}{m} X^T.(X.\\theta-Y)\n",
    "\\end{equation*}\n",
    "\\qquad\n",
    "(n+1) \\times 1\n",
    "```"
   ]
  },
  {
   "cell_type": "code",
   "execution_count": null,
   "metadata": {},
   "outputs": [],
   "source": [
    "def grad(X, y, theta):\n",
    "\tm = len(y)\n",
    "\treturn 1/m * X.T.dot(model(X, theta) - y) "
   ]
  },
  {
   "cell_type": "markdown",
   "metadata": {},
   "source": [
    "5. Gradient Descent Algorithm:\n",
    "\n",
    "```math\n",
    "\\begin{equation*}\n",
    "\\theta := \\theta - \\alpha\\frac{\\partial J(\\theta)}{\\partial \\theta}\n",
    "\\end{equation*}\n",
    "\\qquad\n",
    "(n+1) \\times 1\n",
    "```\n",
    "\n"
   ]
  },
  {
   "cell_type": "code",
   "execution_count": null,
   "metadata": {},
   "outputs": [],
   "source": [
    "def gradient_descent(X, y, theta, learning_rate, n_iterations):\n",
    "\n",
    "\tcost_history = np.zeros(n_iterations)\n",
    "\tfor i in range(0, n_iterations):\n",
    "\t\ttheta = theta - learning_rate * grad(X, y, theta)\n",
    "\t\tcost_history[i] = cost_function(X, y, theta)\n",
    "\treturn theta, cost_history"
   ]
  },
  {
   "cell_type": "markdown",
   "metadata": {},
   "source": [
    "## Machine Learning\n"
   ]
  },
  {
   "cell_type": "code",
   "execution_count": null,
   "metadata": {},
   "outputs": [],
   "source": [
    "theta_final, cost_history = gradient_descent(X, y, theta, learning_rate=0.01, n_iterations=1000)"
   ]
  },
  {
   "cell_type": "code",
   "execution_count": null,
   "metadata": {},
   "outputs": [],
   "source": [
    "theta_final"
   ]
  },
  {
   "cell_type": "code",
   "execution_count": null,
   "metadata": {},
   "outputs": [],
   "source": [
    "predictions = model(X, theta_final)\n",
    "plt.scatter(x, y)\n",
    "plt.plot(x, predictions, c='r')"
   ]
  },
  {
   "cell_type": "markdown",
   "metadata": {},
   "source": [
    "### Learning curve"
   ]
  },
  {
   "cell_type": "code",
   "execution_count": null,
   "metadata": {},
   "outputs": [],
   "source": [
    "plt.plot(range(1000), cost_history)"
   ]
  },
  {
   "cell_type": "markdown",
   "metadata": {},
   "source": [
    "### Coefficient of determination\n",
    "\n",
    "```math\n",
    "\\begin{equation*}\n",
    "R^2 = 1 - \\frac{\\sum(Y - f(X))^2}{\\sum(Y - \\bar{Y})^2}\n",
    "\\end{equation*}"
   ]
  },
  {
   "cell_type": "code",
   "execution_count": null,
   "metadata": {},
   "outputs": [],
   "source": [
    "def coef_determination(y, pred):\n",
    "\tu = ((y - pred)**2).sum() # residu de la sommme des carrés\n",
    "\tv = ((y - y.mean())**2).sum() #somme totale des carrés\n",
    "\treturn 1 - u/v"
   ]
  },
  {
   "cell_type": "code",
   "execution_count": null,
   "metadata": {},
   "outputs": [],
   "source": [
    "coef_determination(y, predictions)"
   ]
  },
  {
   "cell_type": "markdown",
   "metadata": {},
   "source": [
    "## References\n",
    "\n",
    "- [La régression linéaire 🇫🇷](https://www.youtube.com/watch?v=wg7-roETbbM&t=27s&ab_channel=MachineLearnia)\n",
    "- [Regression linéraire Numpy](https://youtu.be/vG6tDQc86Rs?list=PLO_fdPEVlfKqUF5BPKjGSh7aV9aBshrpY)"
   ]
  }
 ],
 "metadata": {
  "kernelspec": {
   "display_name": ".venv",
   "language": "python",
   "name": "python3"
  },
  "language_info": {
   "codemirror_mode": {
    "name": "ipython",
    "version": 3
   },
   "file_extension": ".py",
   "mimetype": "text/x-python",
   "name": "python",
   "nbconvert_exporter": "python",
   "pygments_lexer": "ipython3",
   "version": "3.12.7"
  }
 },
 "nbformat": 4,
 "nbformat_minor": 2
}
